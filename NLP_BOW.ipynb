{
 "cells": [
  {
   "cell_type": "markdown",
   "metadata": {},
   "source": [
    "# London data - Part 2: Words"
   ]
  },
  {
   "cell_type": "markdown",
   "metadata": {},
   "source": [
    "### Natural language processing - Bag of words"
   ]
  },
  {
   "cell_type": "code",
   "execution_count": 3,
   "metadata": {},
   "outputs": [],
   "source": [
    "import pandas as pd\n",
    "from cleaning import stem_process_text\n",
    "from sklearn.model_selection import train_test_split\n",
    "\n",
    "df = pd.read_json('property_descriptions.json')\n",
    "df['description'] = df['description'].apply(stem_process_text)\n",
    "\n",
    "#optional: get rid of landlord and just compare flatmates and estate agents\n",
    "# df = df[df['advertiser']!='landlord']\n",
    "\n",
    "x_train, x_test, y_train, y_test = train_test_split(\n",
    "    df['description'], df['advertiser'], test_size=0.3)"
   ]
  },
  {
   "cell_type": "markdown",
   "metadata": {},
   "source": [
    "#### Naive Bayes classifier"
   ]
  },
  {
   "cell_type": "code",
   "execution_count": null,
   "metadata": {},
   "outputs": [],
   "source": [
    "from sklearn.pipeline import Pipeline\n",
    "from sklearn.feature_extraction.text import TfidfVectorizer\n",
    "from sklearn.naive_bayes import MultinomialNB\n",
    "text_clf = Pipeline([\n",
    "    ('vect', TfidfVectorizer(max_features= 50000, ngram_range=(1,3), analyzer='word')),\n",
    "    ('model', MultinomialNB())])\n",
    "# Can use GridSearchCV to optimise parameters of the pipeline and improve classification accuracy\n",
    "text_clf.fit(x_train, y_train)\n",
    "NB_pred = text_clf.predict(x_test)"
   ]
  },
  {
   "cell_type": "markdown",
   "metadata": {},
   "source": [
    "#### Support vector machine"
   ]
  },
  {
   "cell_type": "code",
   "execution_count": null,
   "metadata": {},
   "outputs": [],
   "source": [
    "from sklearn.linear_model import SGDClassifier\n",
    "text_clf = Pipeline([\n",
    "    ('vect', TfidfVectorizer(max_features= 50000, ngram_range=(1,3), analyzer='word')), \n",
    "    ('model', SGDClassifier(alpha=0.00001))])\n",
    "text_clf.fit(x_train, y_train)\n",
    "SVM_pred = text_clf.predict(x_test)"
   ]
  },
  {
   "cell_type": "markdown",
   "metadata": {},
   "source": [
    "#### Random forest classifier"
   ]
  },
  {
   "cell_type": "code",
   "execution_count": null,
   "metadata": {},
   "outputs": [],
   "source": [
    "from sklearn.ensemble import RandomForestClassifier\n",
    "text_clf = Pipeline([\n",
    "    ('vect', TfidfVectorizer(max_features = 50000, ngram_range=(1,3), analyzer='word')), \n",
    "    ('model', RandomForestClassifier(n_estimators=100))])\n",
    "text_clf.fit(x_train, y_train)\n",
    "RFC_pred = text_clf.predict(x_test)"
   ]
  },
  {
   "cell_type": "markdown",
   "metadata": {},
   "source": [
    "#### Performances"
   ]
  },
  {
   "cell_type": "code",
   "execution_count": 15,
   "metadata": {},
   "outputs": [
    {
     "name": "stdout",
     "output_type": "stream",
     "text": [
      "\n",
      "___ PERFORMANCES FOR DIFFERENT CLASSIFICATION TECHNIQUES ___\n",
      "\n",
      "NAIVE BAYES\n",
      "             precision    recall  f1-score   support\n",
      "\n",
      "      agent       0.91      0.75      0.82      2601\n",
      "   flatmate       0.78      0.75      0.77      2723\n",
      "   landlord       0.67      0.80      0.73      3017\n",
      "\n",
      "avg / total       0.78      0.77      0.77      8341\n",
      "\n",
      "\n",
      "SUPPORT VECTOR MACHINE\n",
      "             precision    recall  f1-score   support\n",
      "\n",
      "      agent       0.90      0.90      0.90      2601\n",
      "   flatmate       0.84      0.83      0.84      2723\n",
      "   landlord       0.80      0.81      0.81      3017\n",
      "\n",
      "avg / total       0.85      0.85      0.85      8341\n",
      "\n",
      "\n",
      "RANDOM FOREST CLASSIFIER\n",
      "             precision    recall  f1-score   support\n",
      "\n",
      "      agent       0.92      0.88      0.90      2601\n",
      "   flatmate       0.85      0.82      0.83      2723\n",
      "   landlord       0.78      0.83      0.81      3017\n",
      "\n",
      "avg / total       0.85      0.84      0.84      8341\n",
      "\n"
     ]
    }
   ],
   "source": [
    "from sklearn.metrics import classification_report\n",
    "\n",
    "print('\\n___ PERFORMANCES FOR DIFFERENT CLASSIFICATION TECHNIQUES ___')\n",
    "print('\\nNAIVE BAYES')\n",
    "print(classification_report(y_test, NB_pred))\n",
    "print('\\nSUPPORT VECTOR MACHINE')\n",
    "print(classification_report(y_test, SVM_pred))\n",
    "print('\\nRANDOM FOREST CLASSIFIER')\n",
    "print(classification_report(y_test, RFC_pred))"
   ]
  },
  {
   "cell_type": "markdown",
   "metadata": {},
   "source": [
    "#### Improved performances only comparing listings authored by an agent or flatmate"
   ]
  },
  {
   "cell_type": "code",
   "execution_count": null,
   "metadata": {},
   "outputs": [],
   "source": [
    "df = df[df['advertiser']!='landlord']\n",
    "x_train, x_test, y_train, y_test = train_test_split(\n",
    "    df['description'], df['advertiser'], test_size=0.3)\n",
    "\n",
    "text_clf = Pipeline([\n",
    "    ('vect', TfidfVectorizer(max_features= 5000, ngram_range=(1,3), analyzer='word')), \n",
    "    ('model', SGDClassifier(alpha=0.00001))])\n",
    "text_clf.fit(x_train, y_train)\n",
    "SVM_pred = text_clf.predict(x_test)"
   ]
  },
  {
   "cell_type": "code",
   "execution_count": 17,
   "metadata": {},
   "outputs": [
    {
     "name": "stdout",
     "output_type": "stream",
     "text": [
      "\n",
      "IMPROVED CLASSIFICATION\n",
      "             precision    recall  f1-score   support\n",
      "\n",
      "      agent       0.94      0.94      0.94      2613\n",
      "   flatmate       0.94      0.94      0.94      2727\n",
      "\n",
      "avg / total       0.94      0.94      0.94      5340\n",
      "\n"
     ]
    }
   ],
   "source": [
    "print('\\nIMPROVED CLASSIFICATION')\n",
    "print(classification_report(y_test, SVM_pred))"
   ]
  },
  {
   "cell_type": "code",
   "execution_count": null,
   "metadata": {},
   "outputs": [],
   "source": []
  }
 ],
 "metadata": {
  "kernelspec": {
   "display_name": "Python 3",
   "language": "python",
   "name": "python3"
  },
  "language_info": {
   "codemirror_mode": {
    "name": "ipython",
    "version": 3
   },
   "file_extension": ".py",
   "mimetype": "text/x-python",
   "name": "python",
   "nbconvert_exporter": "python",
   "pygments_lexer": "ipython3",
   "version": "3.6.2"
  }
 },
 "nbformat": 4,
 "nbformat_minor": 2
}
