{
 "cells": [
  {
   "cell_type": "markdown",
   "metadata": {},
   "source": [
    "# London data - Part 2: Words"
   ]
  },
  {
   "cell_type": "markdown",
   "metadata": {},
   "source": [
    "### Natural language processing - Bag of words\n",
    "A very brief run through and comparison of some classification techniques to analyse the\n",
    "property descriptions. No significant effort was made to optimize these classifiers. "
   ]
  },
  {
   "cell_type": "code",
   "execution_count": null,
   "metadata": {},
   "outputs": [],
   "source": [
    "import numpy as np\n",
    "from time import time\n",
    "import pandas as pd\n",
    "from cleaning import stem_process_text\n",
    "from cleaning import stop_process_text\n",
    "from cleaning import process_text\n",
    "from sklearn.model_selection import train_test_split\n",
    "from sklearn.feature_extraction.text import TfidfVectorizer\n",
    "from sklearn.metrics import accuracy_score \n",
    "from sklearn.metrics import classification_report\n",
    "from sklearn.model_selection import cross_val_score\n",
    "\n",
    "df = pd.read_json('property_descriptions.json')\n",
    "df['description'] = df['description'].apply(stem_process_text)\n",
    "# df['description'] = df['description'].apply(lambda x: ' '.join(x))\n",
    "\n",
    "#optional: get rid of landlord and just compare flatmates and estate agents\n",
    "# df = df[df['advertiser']!='landlord']\n",
    "\n",
    "x_train, x_test, y_train, y_test = train_test_split(\n",
    "    df['description'], df['advertiser'], test_size=0.3)\n",
    "vectorizer = TfidfVectorizer(max_features= 50000, ngram_range=(1,3), analyzer='word')\n",
    "x_train = vectorizer.fit_transform(x_train)\n",
    "x_test = vectorizer.transform(x_test)\n",
    "feature_names = vectorizer.get_feature_names()\n",
    "classes = df['advertiser'].unique()\n",
    "\n",
    "df['description'][1]"
   ]
  },
  {
   "cell_type": "code",
   "execution_count": null,
   "metadata": {},
   "outputs": [],
   "source": [
    "def classifier(clf, multiclass=True):\n",
    "    print('_' * 80)\n",
    "    print(f\"Training: {clf}\")\n",
    "    t0 = time()\n",
    "    clf.fit(x_train, y_train)\n",
    "    time_elapsed = time() - t0\n",
    "    print(f'Training duration: {time_elapsed}')\n",
    "    \n",
    "    CV_scores = cross_val_score(clf, x_train, y_train, cv=5)\n",
    "    print(f\"Cross validaton results: {CV_scores.mean()} ± {CV_scores.std()}\")\n",
    "    \n",
    "    t0 = time()\n",
    "    pred = clf.predict(x_test)\n",
    "    time_elapsed = time() - t0\n",
    "    print(f'Testing duration: {time_elapsed}')\n",
    "    \n",
    "    \n",
    "    accuracy = accuracy_score(y_test, pred)\n",
    "    print(f\"Accuracy: {accuracy}\")\n",
    "    \n",
    "    print(\"Classificaion report\\n\", classification_report(y_test, pred))\n",
    "    \n",
    "    if multiclass:\n",
    "        if hasattr(clf, 'coef_'):\n",
    "            print('Top 10 features for each class...')\n",
    "            for i, label in enumerate(classes):\n",
    "                top10 = np.argsort(clf.coef_[i])[-10:]\n",
    "                top10_list = []\n",
    "                for feature in top10:\n",
    "                    top10_list.append(feature_names[feature])\n",
    "                print(f\"{label}: \", ', '.join(top10_list))"
   ]
  },
  {
   "cell_type": "code",
   "execution_count": null,
   "metadata": {},
   "outputs": [],
   "source": [
    "from sklearn.naive_bayes import MultinomialNB\n",
    "from sklearn.ensemble import RandomForestClassifier\n",
    "from sklearn import svm\n",
    "\n",
    "for clf in (MultinomialNB(),\n",
    "            svm.LinearSVC(),\n",
    "            RandomForestClassifier(n_estimators=100)):\n",
    "    classifier(clf)"
   ]
  },
  {
   "cell_type": "markdown",
   "metadata": {},
   "source": [
    "#### Improved performances only comparing listings authored by an agent or flatmate"
   ]
  },
  {
   "cell_type": "code",
   "execution_count": null,
   "metadata": {},
   "outputs": [],
   "source": [
    "df = df[df['advertiser']!='landlord']\n",
    "x_train, x_test, y_train, y_test = train_test_split(\n",
    "    df['description'], df['advertiser'], test_size=0.3)\n",
    "vectorizer = TfidfVectorizer(max_features= 50000, ngram_range=(1,3), analyzer='word')\n",
    "x_train = vectorizer.fit_transform(x_train)\n",
    "x_test = vectorizer.transform(x_test)\n",
    "feature_names = vectorizer.get_feature_names()\n",
    "classes = df['advertiser'].unique()\n",
    "\n",
    "print('\\nIMPROVED CLASSIFICATION')\n",
    "for clf in (MultinomialNB(),\n",
    "            svm.LinearSVC(),\n",
    "            RandomForestClassifier(n_estimators=100)):\n",
    "    classifier(clf, multiclass=False)"
   ]
  }
 ],
 "metadata": {
  "kernelspec": {
   "display_name": "Python 3",
   "language": "python",
   "name": "python3"
  },
  "language_info": {
   "codemirror_mode": {
    "name": "ipython",
    "version": 3
   },
   "file_extension": ".py",
   "mimetype": "text/x-python",
   "name": "python",
   "nbconvert_exporter": "python",
   "pygments_lexer": "ipython3",
   "version": "3.6.2"
  }
 },
 "nbformat": 4,
 "nbformat_minor": 2
}
