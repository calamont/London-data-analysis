{
 "cells": [
  {
   "cell_type": "markdown",
   "metadata": {},
   "source": [
    "# London data - Part 2: Words"
   ]
  },
  {
   "cell_type": "markdown",
   "metadata": {},
   "source": [
    "### Natural language processing - Bag of words\n",
    "A very brief run through and comparison of some classification techniques to analyse the\n",
    "property descriptions. No significant effort was made to optimize these classifiers. "
   ]
  },
  {
   "cell_type": "code",
   "execution_count": 1,
   "metadata": {},
   "outputs": [
    {
     "name": "stderr",
     "output_type": "stream",
     "text": [
      "/Users/cal_lamont/anaconda3/lib/python3.6/site-packages/sklearn/feature_extraction/text.py:1089: FutureWarning: Conversion of the second argument of issubdtype from `float` to `np.floating` is deprecated. In future, it will be treated as `np.float64 == np.dtype(float).type`.\n",
      "  if hasattr(X, 'dtype') and np.issubdtype(X.dtype, np.float):\n"
     ]
    },
    {
     "data": {
      "text/plain": [
       "'good size doubl room plenti storag nice room larg bay provid great light larg garden excel locat residenti road free park close local iceland oper librari good transport link central walk overhead train station walk main road excel local bu link e north station hous follow furnish modern kitchen contemporari bathroom separ bath walk shower toilet back garden price inclus deposit room price singl occup pleas contact provid via text call'"
      ]
     },
     "execution_count": 1,
     "metadata": {},
     "output_type": "execute_result"
    }
   ],
   "source": [
    "import numpy as np\n",
    "from time import time\n",
    "import pandas as pd\n",
    "from cleaning import stem_process_text\n",
    "from cleaning import stop_process_text\n",
    "from cleaning import process_text\n",
    "from sklearn.model_selection import train_test_split\n",
    "from sklearn.feature_extraction.text import TfidfVectorizer\n",
    "from sklearn.metrics import accuracy_score \n",
    "from sklearn.metrics import classification_report\n",
    "from sklearn.model_selection import cross_val_score\n",
    "\n",
    "df = pd.read_json('property_descriptions.json')\n",
    "df['description'] = df['description'].apply(stem_process_text)\n",
    "# df['description'] = df['description'].apply(lambda x: ' '.join(x))\n",
    "\n",
    "#optional: get rid of landlord and just compare flatmates and estate agents\n",
    "# df = df[df['advertiser']!='landlord']\n",
    "\n",
    "x_train, x_test, y_train, y_test = train_test_split(\n",
    "    df['description'], df['advertiser'], test_size=0.3)\n",
    "vectorizer = TfidfVectorizer(max_features= 50000, ngram_range=(1,3), analyzer='word')\n",
    "x_train = vectorizer.fit_transform(x_train)\n",
    "x_test = vectorizer.transform(x_test)\n",
    "feature_names = vectorizer.get_feature_names()\n",
    "classes = df['advertiser'].unique()\n",
    "\n",
    "df['description'][1]"
   ]
  },
  {
   "cell_type": "code",
   "execution_count": 2,
   "metadata": {},
   "outputs": [],
   "source": [
    "def classifier(clf, multiclass=True):\n",
    "    print('_' * 80)\n",
    "    print(f\"Training: {clf}\")\n",
    "    t0 = time()\n",
    "    clf.fit(x_train, y_train)\n",
    "    time_elapsed = time() - t0\n",
    "    print(f'Training duration: {time_elapsed}')\n",
    "    \n",
    "    CV_scores = cross_val_score(clf, x_train, y_train, cv=5)\n",
    "    print(f\"Cross validaton results: {CV_scores.mean()} ± {CV_scores.std()}\")\n",
    "    \n",
    "    t0 = time()\n",
    "    pred = clf.predict(x_test)\n",
    "    time_elapsed = time() - t0\n",
    "    print(f'Testing duration: {time_elapsed}')\n",
    "    \n",
    "    \n",
    "    accuracy = accuracy_score(y_test, pred)\n",
    "    print(f\"Accuracy: {accuracy}\")\n",
    "    \n",
    "    print(\"Classificaion report\\n\", classification_report(y_test, pred))\n",
    "    \n",
    "    if multiclass:\n",
    "        if hasattr(clf, 'coef_'):\n",
    "            print('Top 10 features for each class...')\n",
    "            for i, label in enumerate(classes):\n",
    "                top10 = np.argsort(clf.coef_[i])[-10:]\n",
    "                top10_list = []\n",
    "                for feature in top10:\n",
    "                    top10_list.append(feature_names[feature])\n",
    "                print(f\"{label}: \", ', '.join(top10_list))"
   ]
  },
  {
   "cell_type": "code",
   "execution_count": 3,
   "metadata": {},
   "outputs": [
    {
     "name": "stdout",
     "output_type": "stream",
     "text": [
      "________________________________________________________________________________\n",
      "Training: MultinomialNB(alpha=1.0, class_prior=None, fit_prior=True)\n",
      "Training duration: 0.13844585418701172\n",
      "Cross validaton results: 0.7585934540320478 ± 0.009111621823963625\n",
      "Testing duration: 0.009123086929321289\n",
      "Accuracy: 0.7555448986932023\n",
      "Classificaion report\n",
      "              precision    recall  f1-score   support\n",
      "\n",
      "      agent       0.91      0.72      0.81      2592\n",
      "   flatmate       0.78      0.74      0.76      2761\n",
      "   landlord       0.65      0.80      0.72      2988\n",
      "\n",
      "avg / total       0.77      0.76      0.76      8341\n",
      "\n",
      "Top 10 features for each class...\n",
      "agent:  kitchen, free, includ, station, avail, walk, fulli, doubl, properti, room\n",
      "landlord:  avail, station, min, doubl, look, live, walk, hous, flat, room\n",
      "flatmate:  kitchen, park, avail, larg, station, doubl, flat, hous, walk, room\n",
      "________________________________________________________________________________\n",
      "Training: LinearSVC(C=1.0, class_weight=None, dual=True, fit_intercept=True,\n",
      "     intercept_scaling=1, loss='squared_hinge', max_iter=1000,\n",
      "     multi_class='ovr', penalty='l2', random_state=None, tol=0.0001,\n",
      "     verbose=0)\n",
      "Training duration: 1.6685669422149658\n",
      "Cross validaton results: 0.826678672474299 ± 0.004511334840318776\n",
      "Testing duration: 0.008297920227050781\n",
      "Accuracy: 0.8411461455460976\n",
      "Classificaion report\n",
      "              precision    recall  f1-score   support\n",
      "\n",
      "      agent       0.90      0.90      0.90      2592\n",
      "   flatmate       0.84      0.82      0.83      2761\n",
      "   landlord       0.79      0.81      0.80      2988\n",
      "\n",
      "avg / total       0.84      0.84      0.84      8341\n",
      "\n",
      "Top 10 features for each class...\n",
      "agent:  hous share, call, singl use, mainten, fee, speak, offer, book, properti, present\n",
      "landlord:  contract, huge, roommat, month, room, replac, sublet, leav, move, th\n",
      "flatmate:  front garden, decor, new build, rental, notic, room inclus, landlord, owner, lodger, live landlord\n",
      "________________________________________________________________________________\n",
      "Training: RandomForestClassifier(bootstrap=True, class_weight=None, criterion='gini',\n",
      "            max_depth=None, max_features='auto', max_leaf_nodes=None,\n",
      "            min_impurity_decrease=0.0, min_impurity_split=None,\n",
      "            min_samples_leaf=1, min_samples_split=2,\n",
      "            min_weight_fraction_leaf=0.0, n_estimators=100, n_jobs=1,\n",
      "            oob_score=False, random_state=None, verbose=0,\n",
      "            warm_start=False)\n",
      "Training duration: 65.57200002670288\n",
      "Cross validaton results: 0.8151173780435489 ± 0.004497775235931984\n",
      "Testing duration: 0.8685059547424316\n",
      "Accuracy: 0.8350317707708907\n",
      "Classificaion report\n",
      "              precision    recall  f1-score   support\n",
      "\n",
      "      agent       0.92      0.88      0.90      2592\n",
      "   flatmate       0.84      0.80      0.82      2761\n",
      "   landlord       0.76      0.83      0.79      2988\n",
      "\n",
      "avg / total       0.84      0.84      0.84      8341\n",
      "\n"
     ]
    }
   ],
   "source": [
    "from sklearn.naive_bayes import MultinomialNB\n",
    "from sklearn.ensemble import RandomForestClassifier\n",
    "from sklearn import svm\n",
    "\n",
    "for clf in (MultinomialNB(),\n",
    "            svm.LinearSVC(),\n",
    "            RandomForestClassifier(n_estimators=100)):\n",
    "    classifier(clf)"
   ]
  },
  {
   "cell_type": "markdown",
   "metadata": {},
   "source": [
    "#### Improved performances only comparing listings authored by an agent or flatmate"
   ]
  },
  {
   "cell_type": "code",
   "execution_count": 4,
   "metadata": {},
   "outputs": [
    {
     "name": "stderr",
     "output_type": "stream",
     "text": [
      "/Users/cal_lamont/anaconda3/lib/python3.6/site-packages/sklearn/feature_extraction/text.py:1089: FutureWarning: Conversion of the second argument of issubdtype from `float` to `np.floating` is deprecated. In future, it will be treated as `np.float64 == np.dtype(float).type`.\n",
      "  if hasattr(X, 'dtype') and np.issubdtype(X.dtype, np.float):\n"
     ]
    },
    {
     "name": "stdout",
     "output_type": "stream",
     "text": [
      "\n",
      "IMPROVED CLASSIFICATION\n",
      "________________________________________________________________________________\n",
      "Training: MultinomialNB(alpha=1.0, class_prior=None, fit_prior=True)\n",
      "Training duration: 0.12543892860412598\n",
      "Cross validaton results: 0.9153950633996661 ± 0.0032225208403313613\n",
      "Testing duration: 0.004858970642089844\n",
      "Accuracy: 0.9176029962546817\n",
      "Classificaion report\n",
      "              precision    recall  f1-score   support\n",
      "\n",
      "      agent       0.95      0.88      0.91      2588\n",
      "   flatmate       0.89      0.96      0.92      2752\n",
      "\n",
      "avg / total       0.92      0.92      0.92      5340\n",
      "\n",
      "________________________________________________________________________________\n",
      "Training: LinearSVC(C=1.0, class_weight=None, dual=True, fit_intercept=True,\n",
      "     intercept_scaling=1, loss='squared_hinge', max_iter=1000,\n",
      "     multi_class='ovr', penalty='l2', random_state=None, tol=0.0001,\n",
      "     verbose=0)\n",
      "Training duration: 0.37718701362609863\n",
      "Cross validaton results: 0.9499918776228509 ± 0.0027656107633710096\n",
      "Testing duration: 0.004914999008178711\n",
      "Accuracy: 0.9561797752808989\n",
      "Classificaion report\n",
      "              precision    recall  f1-score   support\n",
      "\n",
      "      agent       0.95      0.96      0.96      2588\n",
      "   flatmate       0.96      0.95      0.96      2752\n",
      "\n",
      "avg / total       0.96      0.96      0.96      5340\n",
      "\n",
      "________________________________________________________________________________\n",
      "Training: RandomForestClassifier(bootstrap=True, class_weight=None, criterion='gini',\n",
      "            max_depth=None, max_features='auto', max_leaf_nodes=None,\n",
      "            min_impurity_decrease=0.0, min_impurity_split=None,\n",
      "            min_samples_leaf=1, min_samples_split=2,\n",
      "            min_weight_fraction_leaf=0.0, n_estimators=100, n_jobs=1,\n",
      "            oob_score=False, random_state=None, verbose=0,\n",
      "            warm_start=False)\n",
      "Training duration: 22.136457920074463\n",
      "Cross validaton results: 0.943249015322929 ± 0.002369207188683536\n",
      "Testing duration: 0.5243029594421387\n",
      "Accuracy: 0.9518726591760299\n",
      "Classificaion report\n",
      "              precision    recall  f1-score   support\n",
      "\n",
      "      agent       0.96      0.94      0.95      2588\n",
      "   flatmate       0.95      0.96      0.95      2752\n",
      "\n",
      "avg / total       0.95      0.95      0.95      5340\n",
      "\n"
     ]
    }
   ],
   "source": [
    "df = df[df['advertiser']!='landlord']\n",
    "x_train, x_test, y_train, y_test = train_test_split(\n",
    "    df['description'], df['advertiser'], test_size=0.3)\n",
    "vectorizer = TfidfVectorizer(max_features= 50000, ngram_range=(1,3), analyzer='word')\n",
    "x_train = vectorizer.fit_transform(x_train)\n",
    "x_test = vectorizer.transform(x_test)\n",
    "feature_names = vectorizer.get_feature_names()\n",
    "classes = df['advertiser'].unique()\n",
    "\n",
    "print('\\nIMPROVED CLASSIFICATION')\n",
    "for clf in (MultinomialNB(),\n",
    "            svm.LinearSVC(),\n",
    "            RandomForestClassifier(n_estimators=100)):\n",
    "    classifier(clf, multiclass=False)"
   ]
  },
  {
   "cell_type": "code",
   "execution_count": null,
   "metadata": {},
   "outputs": [],
   "source": []
  }
 ],
 "metadata": {
  "kernelspec": {
   "display_name": "Python 3",
   "language": "python",
   "name": "python3"
  },
  "language_info": {
   "codemirror_mode": {
    "name": "ipython",
    "version": 3
   },
   "file_extension": ".py",
   "mimetype": "text/x-python",
   "name": "python",
   "nbconvert_exporter": "python",
   "pygments_lexer": "ipython3",
   "version": "3.6.2"
  }
 },
 "nbformat": 4,
 "nbformat_minor": 2
}
